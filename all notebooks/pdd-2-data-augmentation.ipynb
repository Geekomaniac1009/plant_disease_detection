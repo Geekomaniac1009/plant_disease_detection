{
 "cells": [
  {
   "cell_type": "code",
   "execution_count": 1,
   "metadata": {},
   "outputs": [
    {
     "name": "stdout",
     "output_type": "stream",
     "text": [
      "# conda environments:\n",
      "#\n",
      "base                     /opt/anaconda3\n",
      "pytorch               *  /opt/anaconda3/envs/pytorch\n",
      "\n",
      "\n",
      "Note: you may need to restart the kernel to use updated packages.\n"
     ]
    }
   ],
   "source": [
    "conda env list"
   ]
  },
  {
   "cell_type": "code",
   "execution_count": 2,
   "metadata": {},
   "outputs": [
    {
     "name": "stdout",
     "output_type": "stream",
     "text": [
      "# conda environments:\n",
      "#\n",
      "base                     /opt/anaconda3\n",
      "pytorch               *  /opt/anaconda3/envs/pytorch\n",
      "\n",
      "\n",
      "Note: you may need to restart the kernel to use updated packages.\n"
     ]
    }
   ],
   "source": [
    "conda info --env"
   ]
  },
  {
   "cell_type": "code",
   "execution_count": 3,
   "metadata": {},
   "outputs": [
    {
     "name": "stderr",
     "output_type": "stream",
     "text": [
      "/opt/anaconda3/envs/pytorch/lib/python3.11/site-packages/torchvision/io/image.py:13: UserWarning: Failed to load image Python extension: 'dlopen(/opt/anaconda3/envs/pytorch/lib/python3.11/site-packages/torchvision/image.so, 0x0006): Symbol not found: __ZN3c1017RegisterOperatorsD1Ev\n",
      "  Referenced from: <CFED5F8E-EC3F-36FD-AAA3-2C6C7F8D3DD9> /opt/anaconda3/envs/pytorch/lib/python3.11/site-packages/torchvision/image.so\n",
      "  Expected in:     <E459C462-F863-3A5A-AC9F-FD77B14BE845> /opt/anaconda3/envs/pytorch/lib/python3.11/site-packages/torch/lib/libtorch_cpu.dylib'If you don't plan on using image functionality from `torchvision.io`, you can ignore this warning. Otherwise, there might be something wrong with your environment. Did you have `libjpeg` or `libpng` installed before building `torchvision` from source?\n",
      "  warn(\n"
     ]
    }
   ],
   "source": [
    "import os\n",
    "from PIL import Image, ImageDraw, ImageFilter, ImageChops\n",
    "from torchvision import transforms\n",
    "from tqdm import tqdm\n",
    "import random\n",
    "import numpy as np\n",
    "\n",
    "# Custom transformation for random brightness and contrast adjustment\n",
    "class RandomBrightnessContrast(object):\n",
    "    def __call__(self, img):\n",
    "        img = transforms.ColorJitter(brightness=0.5, contrast=0.5)(img)\n",
    "        return img\n",
    "\n",
    "# Define the transformations for data augmentation\n",
    "transformations = transforms.Compose([\n",
    "    transforms.ColorJitter(brightness=0.5, contrast=0.5, saturation=0.5, hue=0.5),\n",
    "    transforms.RandomApply([transforms.ColorJitter(brightness=0.5, contrast=0.5, saturation=0.5, hue=0.5)], p=0.5),\n",
    "    RandomBrightnessContrast(),\n",
    "])\n",
    "\n",
    "transform1 = transforms.Compose([\n",
    "    transforms.RandomRotation(degrees=(-15, 15)),\n",
    "    # Add more transformations as needed\n",
    "])\n",
    "\n",
    "transform2 = transforms.Compose([\n",
    "    transforms.RandomResizedCrop(size=224, scale=(0.08, 1.0), ratio=(0.75, 1.333)),\n",
    "    # Add more transformations as needed\n",
    "])"
   ]
  },
  {
   "cell_type": "code",
   "execution_count": 52,
   "metadata": {},
   "outputs": [
    {
     "name": "stdout",
     "output_type": "stream",
     "text": [
      "Untitled.ipynb                pdd-2-data-augmentation.ipynb\n",
      "archive (1).zip               \u001b[34mplantvillage dataset\u001b[m\u001b[m\n"
     ]
    }
   ],
   "source": [
    "!ls"
   ]
  },
  {
   "cell_type": "code",
   "execution_count": 53,
   "metadata": {},
   "outputs": [],
   "source": [
    "# Define the path to your dataset\n",
    "dataset_path_color = './plantvillage dataset/color/'\n",
    "dataset_path_grayscale = './plantvillage dataset/grayscale/'\n",
    "dataset_path_segmented = './plantvillage dataset/segmented/'"
   ]
  },
  {
   "cell_type": "code",
   "execution_count": 54,
   "metadata": {},
   "outputs": [],
   "source": [
    "a = list(os.listdir(dataset_path_color))\n",
    "b = list(os.listdir(dataset_path_grayscale))\n",
    "c = list(os.listdir(dataset_path_segmented))"
   ]
  },
  {
   "cell_type": "code",
   "execution_count": 55,
   "metadata": {},
   "outputs": [],
   "source": [
    "os.makedirs('train/', exist_ok = True)\n",
    "os.makedirs('test/', exist_ok = True)"
   ]
  },
  {
   "cell_type": "code",
   "execution_count": 56,
   "metadata": {},
   "outputs": [
    {
     "data": {
      "text/plain": [
       "['Strawberry___healthy',\n",
       " 'Grape___Black_rot',\n",
       " 'Potato___Early_blight',\n",
       " 'Blueberry___healthy',\n",
       " 'Corn_(maize)___healthy',\n",
       " 'Tomato___Target_Spot',\n",
       " 'Peach___healthy',\n",
       " 'Potato___Late_blight',\n",
       " 'Tomato___Late_blight',\n",
       " 'Tomato___Tomato_mosaic_virus',\n",
       " 'Pepper,_bell___healthy',\n",
       " 'Orange___Haunglongbing_(Citrus_greening)',\n",
       " 'Tomato___Leaf_Mold',\n",
       " 'Grape___Leaf_blight_(Isariopsis_Leaf_Spot)',\n",
       " 'Cherry_(including_sour)___Powdery_mildew',\n",
       " 'Apple___Cedar_apple_rust',\n",
       " 'Tomato___Bacterial_spot',\n",
       " 'Grape___healthy',\n",
       " 'Tomato___Early_blight',\n",
       " 'Corn_(maize)___Common_rust_',\n",
       " 'Grape___Esca_(Black_Measles)',\n",
       " 'Raspberry___healthy',\n",
       " 'Tomato___healthy',\n",
       " 'Cherry_(including_sour)___healthy',\n",
       " 'Tomato___Tomato_Yellow_Leaf_Curl_Virus',\n",
       " 'Apple___Apple_scab',\n",
       " 'Corn_(maize)___Northern_Leaf_Blight',\n",
       " 'Tomato___Spider_mites Two-spotted_spider_mite',\n",
       " 'Peach___Bacterial_spot',\n",
       " 'Pepper,_bell___Bacterial_spot',\n",
       " 'Tomato___Septoria_leaf_spot',\n",
       " 'Squash___Powdery_mildew',\n",
       " 'Corn_(maize)___Cercospora_leaf_spot Gray_leaf_spot',\n",
       " 'Apple___Black_rot',\n",
       " 'Apple___healthy',\n",
       " 'Strawberry___Leaf_scorch',\n",
       " 'Potato___healthy',\n",
       " 'Soybean___healthy']"
      ]
     },
     "execution_count": 56,
     "metadata": {},
     "output_type": "execute_result"
    }
   ],
   "source": [
    "a"
   ]
  },
  {
   "cell_type": "code",
   "execution_count": 57,
   "metadata": {},
   "outputs": [
    {
     "data": {
      "text/plain": [
       "-0.7966378864500392"
      ]
     },
     "execution_count": 57,
     "metadata": {},
     "output_type": "execute_result"
    }
   ],
   "source": [
    "import random\n",
    "temp = np.random.randn()\n",
    "temp"
   ]
  },
  {
   "cell_type": "code",
   "execution_count": 58,
   "metadata": {},
   "outputs": [
    {
     "name": "stderr",
     "output_type": "stream",
     "text": [
      "                                                                                                            \r"
     ]
    }
   ],
   "source": [
    "for i in tqdm(range(len(a)), position = 0, leave = False, desc = f'Processing '):\n",
    "    output_path_train = './train/' +  a[i]\n",
    "    output_path_test = './test/' + a[i]\n",
    "    output_path_train = output_path_train.replace(\" \", \"_\")\n",
    "    output_path_test = output_path_test.replace(\" \", \"_\")\n",
    "    os.makedirs(output_path_train, exist_ok = True)\n",
    "    os.makedirs(output_path_test, exist_ok = True)\n",
    "    x0 = list(os.listdir(dataset_path_color + a[i]))\n",
    "    x1 = list(os.listdir(dataset_path_grayscale + b[i]))\n",
    "    x2 = list(os.listdir(dataset_path_segmented + c[i]))\n",
    "    for j in tqdm(range(len(x1)), position = 0, leave = False, desc = f'Class: {a[i]}'):\n",
    "        output_path_train = './train/' +  a[i]\n",
    "        output_path_test = './test/' + a[i]\n",
    "        #checking if output directories exist\n",
    "        os.makedirs(output_path_train, exist_ok = True)\n",
    "        os.makedirs(output_path_test, exist_ok = True)       \n",
    "        #defining output path directories\n",
    "        output_path_train = output_path_train + '/' + x0[j]\n",
    "        output_path_test = output_path_test + '/' + x0[j]\n",
    "        #replacing whitespaces with underscores\n",
    "        output_path_train = output_path_train.replace(\" \", \"_\")\n",
    "        output_path_test = output_path_test.replace(\" \", \"_\")\n",
    "        \n",
    "        #defining input paths\n",
    "        input_path_color = dataset_path_color + a[i] + '/' + x0[j]\n",
    "        input_path_grayscale = dataset_path_grayscale + b[i] + '/' + x1[j]\n",
    "        input_path_segmented = dataset_path_segmented + c[i] + '/' + x2[j]\n",
    "        \n",
    "        #reading images\n",
    "        image_c = Image.open(input_path_color)\n",
    "        image_g = Image.open(input_path_grayscale)\n",
    "        image_s = Image.open(input_path_segmented)\n",
    "        \n",
    "        #adding images to the class if the number of images in that particular class is less\n",
    "        image_crr = transform1(image_c)\n",
    "        image_crs = transform2(image_c)\n",
    "        \n",
    "        #Checking whether to put it in the test or train set\n",
    "        temp0 = np.random.randn() #took normal distribution\n",
    "        temp1 = np.random.randn()\n",
    "        \n",
    "        image_ct = transformations(image_c)\n",
    "        \n",
    "        #if temp <= 1.45, this is roughly 84% times, all image data goes into the train set, else test\n",
    "        if (temp1 <= 1.45):\n",
    "            output_path_1 = output_path_train.replace(\".JPG\", \".jpg\")\n",
    "            output_path_2 = output_path_train.replace(\".JPG\", \"g.jpg\")\n",
    "            output_path_3 = output_path_test.replace(\".JPG\", \"s.jpg\")\n",
    "            output_path_4 = output_path_train.replace(\".JPG\", \"t0.jpg\")\n",
    "        else:\n",
    "            output_path_1 = output_path_test.replace(\".JPG\", \".jpg\")\n",
    "            output_path_2 = output_path_test.replace(\".JPG\", \"g.jpg\")\n",
    "            output_path_3 = output_path_train.replace(\".JPG\", \"s.jpg\")\n",
    "            output_path_4 = output_path_test.replace(\".JPG\", \"t0.jpg\")\n",
    "            \n",
    "        image_c.save(output_path_1)\n",
    "        image_g.save(output_path_2)\n",
    "        image_s.save(output_path_3)\n",
    "        image_ct.save(output_path_4)\n",
    "            \n",
    "        if(len(x0) < 750):\n",
    "            output_trans1 = output_path_train.replace(\".JPG\", \"t1.jpg\")\n",
    "            output_trans2 = output_path_train.replace(\".JPG\", \"t2.jpg\")\n",
    "            image_crr.save(output_trans1)\n",
    "            image_crs.save(output_trans2)\n",
    "        \n"
   ]
  },
  {
   "cell_type": "code",
   "execution_count": 59,
   "metadata": {},
   "outputs": [
    {
     "data": {
      "text/plain": [
       "38"
      ]
     },
     "execution_count": 59,
     "metadata": {},
     "output_type": "execute_result"
    }
   ],
   "source": [
    "len(os.listdir('./test'))"
   ]
  },
  {
   "cell_type": "code",
   "execution_count": 60,
   "metadata": {},
   "outputs": [
    {
     "data": {
      "text/plain": [
       "38"
      ]
     },
     "execution_count": 60,
     "metadata": {},
     "output_type": "execute_result"
    }
   ],
   "source": [
    "len(os.listdir('./train'))"
   ]
  },
  {
   "cell_type": "code",
   "execution_count": 61,
   "metadata": {},
   "outputs": [
    {
     "data": {
      "text/plain": [
       "['Strawberry___healthy',\n",
       " 'Grape___Black_rot',\n",
       " 'Potato___Early_blight',\n",
       " 'Blueberry___healthy',\n",
       " 'Corn_(maize)___healthy',\n",
       " 'Tomato___Target_Spot',\n",
       " 'Peach___healthy',\n",
       " 'Potato___Late_blight',\n",
       " 'Corn_(maize)___Cercospora_leaf_spot_Gray_leaf_spot',\n",
       " 'Tomato___Late_blight',\n",
       " 'Tomato___Tomato_mosaic_virus',\n",
       " 'Pepper,_bell___healthy',\n",
       " 'Orange___Haunglongbing_(Citrus_greening)',\n",
       " 'Tomato___Leaf_Mold',\n",
       " 'Grape___Leaf_blight_(Isariopsis_Leaf_Spot)',\n",
       " 'Cherry_(including_sour)___Powdery_mildew',\n",
       " 'Apple___Cedar_apple_rust',\n",
       " 'Tomato___Bacterial_spot',\n",
       " 'Grape___healthy',\n",
       " 'Tomato___Early_blight',\n",
       " 'Corn_(maize)___Common_rust_',\n",
       " 'Grape___Esca_(Black_Measles)',\n",
       " 'Raspberry___healthy',\n",
       " 'Tomato___healthy',\n",
       " 'Cherry_(including_sour)___healthy',\n",
       " 'Tomato___Tomato_Yellow_Leaf_Curl_Virus',\n",
       " 'Apple___Apple_scab',\n",
       " 'Corn_(maize)___Northern_Leaf_Blight',\n",
       " 'Peach___Bacterial_spot',\n",
       " 'Pepper,_bell___Bacterial_spot',\n",
       " 'Tomato___Spider_mites_Two-spotted_spider_mite',\n",
       " 'Tomato___Septoria_leaf_spot',\n",
       " 'Squash___Powdery_mildew',\n",
       " 'Apple___Black_rot',\n",
       " 'Apple___healthy',\n",
       " 'Strawberry___Leaf_scorch',\n",
       " 'Potato___healthy',\n",
       " 'Soybean___healthy']"
      ]
     },
     "execution_count": 61,
     "metadata": {},
     "output_type": "execute_result"
    }
   ],
   "source": [
    "a1 = os.listdir('./test')\n",
    "a1"
   ]
  },
  {
   "cell_type": "code",
   "execution_count": 62,
   "metadata": {},
   "outputs": [
    {
     "data": {
      "text/plain": [
       "[534,\n",
       " 1374,\n",
       " 1148,\n",
       " 1744,\n",
       " 1164,\n",
       " 1592,\n",
       " 404,\n",
       " 1158,\n",
       " 599,\n",
       " 2179,\n",
       " 431,\n",
       " 1688,\n",
       " 6345,\n",
       " 1106,\n",
       " 1198,\n",
       " 1212,\n",
       " 327,\n",
       " 2397,\n",
       " 479,\n",
       " 1154,\n",
       " 1394,\n",
       " 1575,\n",
       " 421,\n",
       " 1825,\n",
       " 972,\n",
       " 6069,\n",
       " 742,\n",
       " 1093,\n",
       " 2621,\n",
       " 1143,\n",
       " 1900,\n",
       " 2041,\n",
       " 2079,\n",
       " 709,\n",
       " 1869,\n",
       " 1271,\n",
       " 174,\n",
       " 5824]"
      ]
     },
     "execution_count": 62,
     "metadata": {},
     "output_type": "execute_result"
    }
   ],
   "source": [
    "b1 = []\n",
    "for i in range(len(a1)):\n",
    "    bt = len(os.listdir('./test/' + a1[i]))\n",
    "    b1.append(bt)\n",
    "b1"
   ]
  },
  {
   "cell_type": "code",
   "execution_count": 63,
   "metadata": {},
   "outputs": [
    {
     "data": {
      "text/plain": [
       "[2202,\n",
       " 3346,\n",
       " 2852,\n",
       " 4264,\n",
       " 1202,\n",
       " 4024,\n",
       " 1756,\n",
       " 2842,\n",
       " 2211,\n",
       " 5151,\n",
       " 1807,\n",
       " 4220,\n",
       " 15683,\n",
       " 2702,\n",
       " 3106,\n",
       " 2996,\n",
       " 1323,\n",
       " 6111,\n",
       " 2059,\n",
       " 2846,\n",
       " 3374,\n",
       " 3957,\n",
       " 1805,\n",
       " 4537,\n",
       " 2444,\n",
       " 15359,\n",
       " 3038,\n",
       " 2617,\n",
       " 6567,\n",
       " 2845,\n",
       " 4804,\n",
       " 5043,\n",
       " 5217,\n",
       " 3017,\n",
       " 4711,\n",
       " 3163,\n",
       " 738,\n",
       " 14536]"
      ]
     },
     "execution_count": 63,
     "metadata": {},
     "output_type": "execute_result"
    }
   ],
   "source": [
    "b2 = []\n",
    "for i in range(len(a1)):\n",
    "    bt = len(os.listdir('./train/' + a1[i]))\n",
    "    b2.append(bt)\n",
    "b2"
   ]
  },
  {
   "cell_type": "code",
   "execution_count": 64,
   "metadata": {},
   "outputs": [
    {
     "data": {
      "text/plain": [
       "160475"
      ]
     },
     "execution_count": 64,
     "metadata": {},
     "output_type": "execute_result"
    }
   ],
   "source": [
    "sum(b2)"
   ]
  },
  {
   "cell_type": "code",
   "execution_count": 65,
   "metadata": {},
   "outputs": [
    {
     "data": {
      "text/plain": [
       "61955"
      ]
     },
     "execution_count": 65,
     "metadata": {},
     "output_type": "execute_result"
    }
   ],
   "source": [
    "sum(b1)"
   ]
  },
  {
   "cell_type": "markdown",
   "metadata": {},
   "source": []
  }
 ],
 "metadata": {
  "kaggle": {
   "accelerator": "none",
   "dataSources": [
    {
     "datasetId": 277323,
     "sourceId": 658267,
     "sourceType": "datasetVersion"
    }
   ],
   "dockerImageVersionId": 30683,
   "isGpuEnabled": false,
   "isInternetEnabled": true,
   "language": "python",
   "sourceType": "notebook"
  },
  "kernelspec": {
   "display_name": "Python 3 (ipykernel)",
   "language": "python",
   "name": "python3"
  },
  "language_info": {
   "codemirror_mode": {
    "name": "ipython",
    "version": 3
   },
   "file_extension": ".py",
   "mimetype": "text/x-python",
   "name": "python",
   "nbconvert_exporter": "python",
   "pygments_lexer": "ipython3",
   "version": "3.11.7"
  }
 },
 "nbformat": 4,
 "nbformat_minor": 4
}
